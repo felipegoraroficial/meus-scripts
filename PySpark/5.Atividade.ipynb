{
 "cells": [
  {
   "cell_type": "code",
   "execution_count": null,
   "metadata": {},
   "outputs": [],
   "source": [
    "import findspark\n",
    "findspark.init()\n",
    "import pyspark\n",
    "from pyspark.sql import SparkSession"
   ]
  },
  {
   "cell_type": "code",
   "execution_count": null,
   "metadata": {},
   "outputs": [],
   "source": [
    "clientes = spark.read.load(\"dados/Clientes.parquet\")\n",
    "vendas = spark.read.load(\"dados/Vendas.parquet\")"
   ]
  },
  {
   "cell_type": "code",
   "execution_count": null,
   "metadata": {},
   "outputs": [],
   "source": [
    "from pyspark.sql import functions as Func"
   ]
  },
  {
   "cell_type": "code",
   "execution_count": null,
   "metadata": {},
   "outputs": [],
   "source": [
    "#1 Crie uma consulta que mostre, nesta ordem, Cliente, Estados e Status\n",
    "clientes.select(\"Cliente\",\"Estado\",\"Status\").show()"
   ]
  },
  {
   "cell_type": "code",
   "execution_count": null,
   "metadata": {},
   "outputs": [],
   "source": [
    "#2 Crie uma consulta que mostre apenas os clientes do Status “platinum” e “gold”\n",
    "clientes.select(\"*\").where( (Func.col(\"Status\") == \"Gold\") | (Func.col(\"Status\") == \"Platinum\") ).show()"
   ]
  },
  {
   "cell_type": "code",
   "execution_count": null,
   "metadata": {},
   "outputs": [],
   "source": [
    "#3 Demostre quanto cada Status de Clientes representa em vendas?\n",
    "vendas.join(clientes,vendas.ClienteID ==clientes.ClienteID ).groupBy(clientes.Status).agg(sum(\"Total\")).orderBy(Func.col(\"sum(Total)\").desc())"
   ]
  }
 ],
 "metadata": {
  "language_info": {
   "name": "python"
  }
 },
 "nbformat": 4,
 "nbformat_minor": 2
}
