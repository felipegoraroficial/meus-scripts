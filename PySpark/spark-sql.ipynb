{
 "cells": [
  {
   "cell_type": "code",
   "execution_count": 1,
   "metadata": {},
   "outputs": [],
   "source": [
    "from pyspark.sql import SparkSession\n",
    "from pyspark.sql.types import *"
   ]
  },
  {
   "cell_type": "code",
   "execution_count": null,
   "metadata": {},
   "outputs": [],
   "source": [
    "#mostrar bancos de dados e tabelas\n",
    "spark.sql(\"show databases\").show()\n",
    "#criar banco de dados\n",
    "spark.sql(\"create database desp\")\n",
    "spark.sql(\"use desp\").show()"
   ]
  },
  {
   "cell_type": "code",
   "execution_count": null,
   "metadata": {},
   "outputs": [],
   "source": [
    "#criar tabela gerenciada\n",
    "arqschema = \"id INT, nome STRING, status STRING, cidade STRING, vendas INT, data STRING\"\n",
    "despachantes = spark.read.csv(\"dados/despachantes.csv\", header=False, schema=arqschema)\n",
    "despachantes.write.saveAsTable(\"Despachantes\")"
   ]
  },
  {
   "cell_type": "code",
   "execution_count": null,
   "metadata": {},
   "outputs": [],
   "source": [
    "#mostrar que a tabela existe\n",
    "spark.sql(\"select * from despachantes\").show()"
   ]
  },
  {
   "cell_type": "code",
   "execution_count": null,
   "metadata": {},
   "outputs": [],
   "source": [
    "#mostra tabela\n",
    "spark.sql(\"show tables\").show()"
   ]
  },
  {
   "cell_type": "code",
   "execution_count": null,
   "metadata": {},
   "outputs": [],
   "source": [
    "#mudar banco de dados\n",
    "spark.sql(\"use default\").show()"
   ]
  },
  {
   "cell_type": "code",
   "execution_count": null,
   "metadata": {},
   "outputs": [],
   "source": [
    "#executa novamente e mostrar que da erro\n",
    "spark.sql(\"select * from despachantes\").show()"
   ]
  },
  {
   "cell_type": "code",
   "execution_count": null,
   "metadata": {},
   "outputs": [],
   "source": [
    "#voltar ao nosso banco de dados\n",
    "spark.sql(\"use desp\").show()"
   ]
  },
  {
   "cell_type": "code",
   "execution_count": null,
   "metadata": {},
   "outputs": [],
   "source": [
    "# overwrite e append\n",
    "despachantes.write.mode(\"overwrite\").saveAsTable(\"Despachantes\")"
   ]
  },
  {
   "cell_type": "code",
   "execution_count": null,
   "metadata": {},
   "outputs": [],
   "source": [
    "#teste de pesistência\n",
    "from pyspark.sql import SparkSession\n",
    "spark.sql(\"use desp\").show()\n",
    "#mostrar que a tabela ainda existe\n",
    "spark.sql(\"select * from despachantes\").show()\n",
    "despachantes.show()"
   ]
  },
  {
   "cell_type": "code",
   "execution_count": null,
   "metadata": {},
   "outputs": [],
   "source": [
    "#o resultado de uma consulta sem um show gera um dataframe\n",
    "despachantes = spark.sql(\"select * from despachantes\")\n",
    "despachantes.show()"
   ]
  },
  {
   "cell_type": "code",
   "execution_count": null,
   "metadata": {},
   "outputs": [],
   "source": [
    "#criar tabela não gerenciada\n",
    "#salvamos novamente no formato parquet, em outro diretorio\n",
    "despachantes.write.format(\"parquet\").save(\"dados/desparquet\") \n",
    "#informar o caminho \n",
    "despachantes.write.option(\"path\", \"dados/desparquet\").saveAsTable(\"Despachantes_ng\")"
   ]
  },
  {
   "cell_type": "code",
   "execution_count": null,
   "metadata": {},
   "outputs": [],
   "source": [
    "#como saber se uma tabela é gerenciada ou não?\n",
    "#podemos observar que despachantes não mostra o caminho\n",
    "spark.sql(\"show create table Despachantes\").show(truncate=False)\n",
    "#despachantes ng mostra, indicando que é não gerenciada\n",
    "spark.sql(\"show create table Despachantes_ng\").show(truncate=False)"
   ]
  },
  {
   "cell_type": "code",
   "execution_count": null,
   "metadata": {},
   "outputs": [],
   "source": [
    "#outra forma:\n",
    "spark.catalog.listTables()"
   ]
  },
  {
   "cell_type": "code",
   "execution_count": null,
   "metadata": {},
   "outputs": [],
   "source": [
    "##views\n",
    "\n",
    "despachantes.createOrReplaceTempView(\"Despachantes\")\n",
    "despachantes.createOrReplaceGlobalTempView(\"Despachantes\")"
   ]
  },
  {
   "cell_type": "code",
   "execution_count": null,
   "metadata": {},
   "outputs": [],
   "source": [
    "#consultas\n",
    "from pyspark.sql import functions as Func\n",
    "from pyspark.sql.functions import sum"
   ]
  },
  {
   "cell_type": "code",
   "execution_count": null,
   "metadata": {},
   "outputs": [],
   "source": [
    "#mostrar a tabela\n",
    "spark.sql(\"Select * from Despachantes\").show()\n",
    "despachantes.show()"
   ]
  },
  {
   "cell_type": "code",
   "execution_count": null,
   "metadata": {},
   "outputs": [],
   "source": [
    "#mostrar certas colunas\n",
    "spark.sql(\"Select nome,vendas from Despachantes\").show()\n",
    "despachantes.select(\"nome\",\"vendas\").show()"
   ]
  },
  {
   "cell_type": "code",
   "execution_count": null,
   "metadata": {},
   "outputs": [],
   "source": [
    "#condição lógica\n",
    "spark.sql(\"Select nome,vendas from Despachantes where vendas > 20\").show()\n",
    "despachantes.select(\"id\",\"nome\",\"vendas\").where(Func.col(\"vendas\") > 20).show()"
   ]
  },
  {
   "cell_type": "code",
   "execution_count": null,
   "metadata": {},
   "outputs": [],
   "source": [
    "spark.sql(\"Select cidade,sum(vendas) from Despachantes group by cidade order by 2 desc\").show()\n",
    "despachantes.groupBy(\"cidade\").agg(sum(\"vendas\")).orderBy(Func.col(\"sum(vendas)\").desc()).show()"
   ]
  },
  {
   "cell_type": "code",
   "execution_count": null,
   "metadata": {},
   "outputs": [],
   "source": [
    "recschema = \"idrec INT, datarec STRING, iddesp INT\"\n",
    "reclamacoes = spark.read.csv(\"dados/reclamacoes.csv\", header=False, schema=recschema)\n",
    "reclamacoes.write.saveAsTable(\"reclamacoes\")"
   ]
  },
  {
   "cell_type": "code",
   "execution_count": null,
   "metadata": {},
   "outputs": [],
   "source": [
    "#inner join\n",
    "spark.sql(\"select reclamacoes.*, despachantes.nome from despachantes inner join reclamacoes  on (despachantes.id = reclamacoes.iddesp)\").show()\n"
   ]
  },
  {
   "cell_type": "code",
   "execution_count": null,
   "metadata": {},
   "outputs": [],
   "source": [
    "#righ join deve trazer o mesmo resultado, pois todas as reclamações tem um despachante\n",
    "spark.sql(\"select reclamacoes.*, despachantes.nome from despachantes right join reclamacoes on (despachantes.id = reclamacoes.iddesp)\").show()"
   ]
  },
  {
   "cell_type": "code",
   "execution_count": null,
   "metadata": {},
   "outputs": [],
   "source": [
    "#um left join traz mais colunas e campos nulos, pois alguns despachantes não tem reclações\n",
    "spark.sql(\"select reclamacoes.*, despachantes.nome from despachantes left join reclamacoes  on (despachantes.id = reclamacoes.iddesp)\").show()\n"
   ]
  },
  {
   "cell_type": "code",
   "execution_count": null,
   "metadata": {},
   "outputs": [],
   "source": [
    "#inner join\n",
    "despachantes.join(reclamacoes,despachantes.id == reclamacoes.iddesp, \"inner\").select(\"idrec\",\"datarec\",\"iddesp\",\"nome\").show()\n"
   ]
  },
  {
   "cell_type": "code",
   "execution_count": null,
   "metadata": {},
   "outputs": [],
   "source": [
    "#right\n",
    "despachantes.join(reclamacoes,despachantes.id == reclamacoes.iddesp, \"right\").select(\"idrec\",\"datarec\",\"iddesp\",\"nome\").show()\n"
   ]
  },
  {
   "cell_type": "code",
   "execution_count": null,
   "metadata": {},
   "outputs": [],
   "source": [
    "\n",
    "#left\n",
    "despachantes.join(reclamacoes,despachantes.id == reclamacoes.iddesp, \"right\").select(\"idrec\",\"datarec\",\"iddesp\",\"nome\").show()\n"
   ]
  },
  {
   "cell_type": "code",
   "execution_count": null,
   "metadata": {},
   "outputs": [],
   "source": [
    "\n",
    "##spark-sql\n",
    "show databases;\n",
    "use desp;\n",
    "show tables;\n",
    "\n",
    "Select * from Despachantes;\n",
    "\n",
    "Select nome,vendas from Despachantes;\n",
    "\n",
    "#condição lógica\n",
    "Select nome,vendas from Despachantes where vendas > 20;\n",
    "\n",
    "#agrupar\n",
    "Select cidade,sum(vendas) from Despachantes group by cidade order by 2 desc;\n",
    "\n",
    "join\n",
    "select reclamacoes.*, despachantes.nome from despachantes inner join reclamacoes  on (despachantes.id = reclamacoes.iddesp);"
   ]
  }
 ],
 "metadata": {
  "kernelspec": {
   "display_name": "Python 3",
   "language": "python",
   "name": "python3"
  },
  "language_info": {
   "codemirror_mode": {
    "name": "ipython",
    "version": 3
   },
   "file_extension": ".py",
   "mimetype": "text/x-python",
   "name": "python",
   "nbconvert_exporter": "python",
   "pygments_lexer": "ipython3",
   "version": "3.12.0"
  }
 },
 "nbformat": 4,
 "nbformat_minor": 2
}
